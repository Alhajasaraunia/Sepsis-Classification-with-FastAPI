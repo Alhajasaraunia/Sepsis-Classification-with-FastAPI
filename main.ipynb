{
 "cells": [
  {
   "cell_type": "code",
   "execution_count": 1,
   "id": "4f3382f5",
   "metadata": {},
   "outputs": [],
   "source": [
    "import pandas as pd\n",
    "import joblib\n",
    "from fastapi import FastAPI\n",
    "import uvicorn\n",
    "import numpy as np\n",
    "import os"
   ]
  },
  {
   "cell_type": "code",
   "execution_count": 6,
   "id": "65fd94d1",
   "metadata": {},
   "outputs": [
    {
     "name": "stderr",
     "output_type": "stream",
     "text": [
      "WARNING:  You must pass the application as an import string to enable 'reload' or 'workers'.\n"
     ]
    },
    {
     "ename": "SystemExit",
     "evalue": "1",
     "output_type": "error",
     "traceback": [
      "An exception has occurred, use %tb to see the full traceback.\n",
      "\u001b[1;31mSystemExit\u001b[0m\u001b[1;31m:\u001b[0m 1\n"
     ]
    }
   ],
   "source": [
    "app = FastAPI()\n",
    "\n",
    "def load_model():\n",
    "    cwd = os.getcwd()\n",
    "    destination = os.path.join(cwd, \"Assets\")\n",
    "\n",
    "    imputer_filepath = os.path.join(destination, \"numerical_imputer.joblib\")\n",
    "    scaler_filepath = os.path.join(destination, \"scaler.joblib\")\n",
    "    model_filepath = os.path.join(destination, \"lr_model.joblib\")\n",
    "\n",
    "    num_imputer = joblib.load(imputer_filepath)\n",
    "    scaler = joblib.load(scaler_filepath)\n",
    "    model = joblib.load(model_filepath)\n",
    "\n",
    "    return num_imputer, scaler, model"
   ]
  },
  {
   "cell_type": "code",
   "execution_count": null,
   "id": "81f1715a",
   "metadata": {},
   "outputs": [],
   "source": [
    "def preprocess_input_data(input_data, num_imputer, scaler):\n",
    "    input_data_df = pd.DataFrame([input_data])\n",
    "    num_columns = [col for col in input_data_df.columns if input_data_df[col].dtype != 'object']\n",
    "    input_data_imputed_num = num_imputer.transform(input_data_df[num_columns])\n",
    "    input_scaled_df = pd.DataFrame(scaler.transform(input_data_imputed_num), columns=num_columns)\n",
    "    return input_scaled_df"
   ]
  },
  {
   "cell_type": "code",
   "execution_count": null,
   "id": "e731b5d3",
   "metadata": {},
   "outputs": [],
   "source": [
    "@app.get(\"/\")\n",
    "def read_root():\n",
    "    return \"Sepsis Prediction App\"\n",
    "\n",
    "@app.get(\"/sepsis/predict\")\n",
    "def predict_sepsis_endpoint(PRG: float, PL: float, PR: float, SK: float, TS: float,\n",
    "                            M11: float, BD2: float, Age: float, Insurance: int):\n",
    "    num_imputer, scaler, model = load_model()\n",
    "\n",
    "    input_data = {\n",
    "        'PRG': [PRG],\n",
    "        'PL': [PL],\n",
    "        'PR': [PR],\n",
    "        'SK': [SK],\n",
    "        'TS': [TS],\n",
    "        'M11': [M11],\n",
    "        'BD2': [BD2],\n",
    "        'Age': [Age],\n",
    "        'Insurance': [Insurance]\n",
    "    }\n",
    "\n",
    "    input_scaled_df = preprocess_input_data(input_data, num_imputer, scaler)\n",
    "\n",
    "    probabilities = model.predict_proba(input_scaled_df)[0]\n",
    "    prediction = np.argmax(probabilities)\n",
    "\n",
    "    sepsis_status = \"Positive\" if prediction == 1 else \"Negative\"\n",
    "    \n",
    "    probability = probabilities[1] if prediction == 1 else probabilities[0]\n",
    "\n",
    "    #statement = f\"The patient is {sepsis_status}. There is a {'high' if prediction == 1 else 'low'} probability ({probability:.2f}) that the patient is susceptible to developing sepsis.\"\n",
    "\n",
    "    if prediction == 1:\n",
    "        status_icon = \"✔\"  # Red 'X' icon for positive sepsis prediction\n",
    "        sepsis_explanation = \"Sepsis is a life-threatening condition caused by an infection. A positive prediction suggests that the patient might be exhibiting sepsis symptoms and requires immediate medical attention.\"\n",
    "    else:\n",
    "        status_icon = \"✘\"  # Green checkmark icon for negative sepsis prediction\n",
    "        sepsis_explanation = \"Sepsis is a life-threatening condition caused by an infection. A negative prediction suggests that the patient is not currently exhibiting sepsis symptoms.\"\n",
    "\n",
    "    statement = f\"The patient's sepsis status is {sepsis_status} {status_icon} with a probability of {probability:.2f}. {sepsis_explanation}\"\n",
    "\n",
    "    user_input_statement = \"Please note this is the user-inputted data: \"\n",
    "\n",
    "    output_df = pd.DataFrame([input_data])\n",
    "\n",
    "    result = {'predicted_sepsis': sepsis_status, 'statement': statement, 'user_input_statement': user_input_statement, 'input_data_df': output_df.to_dict('records')}\n",
    "\n",
    "    return result\n",
    "\n",
    "if __name__ == \"__main__\":\n",
    "    uvicorn.run(app, host=\"0.0.0.0\", port=8080, reload=True)\n"
   ]
  },
  {
   "cell_type": "code",
   "execution_count": null,
   "id": "7c7bf2e0",
   "metadata": {},
   "outputs": [],
   "source": []
  },
  {
   "cell_type": "code",
   "execution_count": null,
   "id": "daa68cf4",
   "metadata": {},
   "outputs": [],
   "source": []
  }
 ],
 "metadata": {
  "kernelspec": {
   "display_name": "Python 3",
   "language": "python",
   "name": "python3"
  },
  "language_info": {
   "codemirror_mode": {
    "name": "ipython",
    "version": 3
   },
   "file_extension": ".py",
   "mimetype": "text/x-python",
   "name": "python",
   "nbconvert_exporter": "python",
   "pygments_lexer": "ipython3",
   "version": "3.8.8"
  }
 },
 "nbformat": 4,
 "nbformat_minor": 5
}
